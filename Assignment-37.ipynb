{
 "cells": [
  {
   "cell_type": "code",
   "execution_count": 1,
   "id": "14cfd8b5-e583-4c09-b87f-d6513a3d1a89",
   "metadata": {},
   "outputs": [],
   "source": [
    "#1. Explain the assumptions required to use ANOVA and provide examples of violations that could impact the validity of the results.\n",
    "\n",
    "#Ans\n",
    "\n",
    "#ANOVA (Analysis of Variance) is a statistical technique used to test for differences in means between two or more groups. The assumptions required for the ANOVA are as follows:\n",
    "\n",
    "#1 - Independence: The observations in each group must be independent of each other. In other words, the value of one observation should not be influenced by the value of any other observation.\n",
    "\n",
    "#2 - Normality: The data in each group should be normally distributed. This assumption is necessary for the statistical tests to be accurate and reliable.\n",
    "\n",
    "#3 - Homogeneity of variance: The variances of the data in each group should be equal. This assumption is also called homoscedasticity. When the variances are unequal, it is called heteroscedasticity.\n",
    "\n",
    "#Examples of violations that could impact the validity of the results are:\n",
    "\n",
    "#1 - Outliers: An outlier is a data point that lies far from the other data points in the group. Outliers can distort the results of ANOVA, leading to inaccurate conclusions.\n",
    "\n",
    "#2 - Non-normality: If the data in each group is not normally distributed, the ANOVA may not provide accurate results. In such cases, transformations of the data can sometimes be used to make it normally distributed.\n",
    "\n",
    "#3 - Heteroscedasticity: When the variances of the data in each group are not equal, it can cause problems with the accuracy of ANOVA. In such cases, alternative statistical methods such as Welch's ANOVA can be used.\n",
    "\n",
    "#4 - Correlated data: If the observations in each group are not independent of each other, it can lead to problems with the accuracy of ANOVA. In such cases, alternative statistical methods such as repeated measures ANOVA can be used."
   ]
  },
  {
   "cell_type": "code",
   "execution_count": 2,
   "id": "4c65b3af-8342-401e-a303-71087b1a14ac",
   "metadata": {},
   "outputs": [],
   "source": [
    "#2. What are the three types of ANOVA, and in what situations would each be used?\n",
    "\n",
    "#Ans\n",
    "\n",
    "#The three types of ANOVA are:\n",
    "\n",
    "#1 - One-Way ANOVA: One-way ANOVA is used when we have one independent variable with more than two levels, and we want to test for differences in means among these levels. For example, if we want to test for differences in mean weight among different breeds of dogs, we would use one-way ANOVA.\n",
    "\n",
    "#2 - Two-Way ANOVA: Two-way ANOVA is used when we have two independent variables and want to test for differences in means among the different combinations of levels of these variables. For example, if we want to test for differences in mean weight among different breeds of dogs and different genders, we would use two-way ANOVA.\n",
    "\n",
    "#3 - Three-Way ANOVA: Three-way ANOVA is used when we have three independent variables and want to test for differences in means among the different combinations of levels of these variables. For example, if we want to test for differences in mean weight among different breeds of dogs, different genders, and different ages, we would use three-way ANOVA.\n",
    "\n",
    "#ANOVA is used when we want to test whether the means of multiple groups are equal or different. It is a useful tool for comparing multiple means simultaneously and identifying any statistically significant differences between them. One-way ANOVA is used when we have one independent variable, while two-way and three-way ANOVA are used when we have two or three independent variables, respectively."
   ]
  },
  {
   "cell_type": "code",
   "execution_count": 3,
   "id": "3383d025-5b54-4947-af64-be853d49db9b",
   "metadata": {},
   "outputs": [],
   "source": [
    "#3. What is the partitioning of variance in ANOVA, and why is it important to understand this concept?\n",
    "\n",
    "#Ans\n",
    "\n",
    "#The partitioning of variance in ANOVA refers to the process of dividing the total variance of a data set into different sources of variation, including the variation between groups and the variation within groups. This is done by calculating the sum of squares for each source of variation and dividing it by its respective degrees of freedom to obtain the mean square for each source of variation. The F-test is then used to compare the mean squares to determine if there are significant differences between the groups.\n",
    "\n",
    "#Understanding the partitioning of variance is important because it allows us to determine the amount of variability in the data that can be attributed to different sources. By partitioning the variance, we can determine how much of the variability is due to differences between groups (treatments) and how much is due to random error or differences within groups (error variance). This information is essential for making accurate inferences about the population from which the sample was drawn.\n",
    "\n",
    "#In addition, the partitioning of variance helps to explain the results of ANOVA in a more meaningful way. For example, if there is a significant difference between groups, we can look at the mean squares for each source of variation to determine which groups are different from each other. We can also calculate effect sizes, such as eta-squared or partial eta-squared, which can help us understand the practical significance of the differences between groups.\n",
    "\n",
    "#Overall, understanding the partitioning of variance in ANOVA is important because it helps us to make accurate inferences about the population, interpret the results of ANOVA, and understand the practical significance of the differences between groups."
   ]
  },
  {
   "cell_type": "code",
   "execution_count": 11,
   "id": "34039f26-11ed-4bff-b579-6fe9794ee545",
   "metadata": {},
   "outputs": [
    {
     "name": "stdout",
     "output_type": "stream",
     "text": [
      "Total sum of squares (SST): 16.00\n",
      "Explained sum of squares (SSE): 1.50\n",
      "Residual sum of squares (SSR): 1.50\n"
     ]
    }
   ],
   "source": [
    "#4. How would you calculate the total sum of squares (SST), explained sum of squares (SSE), and residual sum of squares (SSR) in a one-way ANOVA using Python?\n",
    "\n",
    "#Ans\n",
    "\n",
    "import pandas as pd\n",
    "import statsmodels.api as sm\n",
    "\n",
    "# create a sample dataset\n",
    "df = pd.DataFrame({\n",
    "    'group': ['A', 'A', 'B', 'B', 'C', 'C'],\n",
    "    'value': [1, 2, 3, 4, 5, 6]\n",
    "})\n",
    "\n",
    "# fit the one-way ANOVA model\n",
    "model = sm.formula.ols('value ~ group', data=df).fit()\n",
    "\n",
    "# calculate the total sum of squares (SST)\n",
    "sst = sm.stats.anova_lm(model, typ=1)['sum_sq'][0]\n",
    "\n",
    "# calculate the explained sum of squares (SSE)\n",
    "sse = sm.stats.anova_lm(model, typ=1)['sum_sq'][1]\n",
    "\n",
    "# calculate the residual sum of squares (SSR)\n",
    "ssr = sm.stats.anova_lm(model, typ=1)['sum_sq'][1]\n",
    "\n",
    "print(f\"Total sum of squares (SST): {sst:.2f}\")\n",
    "print(f\"Explained sum of squares (SSE): {sse:.2f}\")\n",
    "print(f\"Residual sum of squares (SSR): {ssr:.2f}\")"
   ]
  },
  {
   "cell_type": "code",
   "execution_count": 18,
   "id": "aa367871-5254-467d-a06f-d5ed35029b49",
   "metadata": {},
   "outputs": [
    {
     "name": "stdout",
     "output_type": "stream",
     "text": [
      "Main effect of A: 11.636363636363642\n",
      "Main effect of B: 2.9090909090909105\n",
      "Interaction effect: 0.04545454545454511\n"
     ]
    }
   ],
   "source": [
    "#5. In a two-way ANOVA, how would you calculate the main effects and interaction effects using Python?\n",
    "\n",
    "#Ans\n",
    "\n",
    "import pandas as pd\n",
    "import statsmodels.api as sm\n",
    "\n",
    "# Create the data\n",
    "df = pd.DataFrame({'y': [2, 3, 5, 7, 8, 12, 14, 15],\n",
    "                   'a': [0, 0, 0, 0, 1, 1, 1, 1],\n",
    "                   'b': [0, 0, 1, 1, 0, 0, 1, 1]})\n",
    "\n",
    "# Fit the ANOVA model\n",
    "model = sm.formula.ols('y ~ C(a) + C(b) + C(a):C(b)', data=df).fit()\n",
    "\n",
    "# Perform ANOVA and extract main effects and interaction\n",
    "table = sm.stats.anova_lm(model, typ=2)\n",
    "\n",
    "# Extract the main effects and interaction effect\n",
    "main_a = table.loc['C(a)', 'sum_sq'] / table.loc['Residual', 'sum_sq']\n",
    "main_b = table.loc['C(b)', 'sum_sq'] / table.loc['Residual', 'sum_sq']\n",
    "interaction = table.loc['C(a):C(b)', 'sum_sq'] / table.loc['Residual', 'sum_sq']\n",
    "\n",
    "# Print results\n",
    "print('Main effect of A:', main_a)\n",
    "print('Main effect of B:', main_b)\n",
    "print('Interaction effect:', interaction)"
   ]
  },
  {
   "cell_type": "code",
   "execution_count": 22,
   "id": "48cf8e95-408f-453e-93e8-4f08685f584b",
   "metadata": {},
   "outputs": [],
   "source": [
    "#6. Suppose you conducted a one-way ANOVA and obtained an F-statistic of 5.23 and a p-value of 0.02. What can you conclude about the differences between the groups, and how would you interpret these results?\n",
    "\n",
    "#Ans\n",
    "\n",
    "#The F-statistic of 5.23 and p-value of 0.02 suggest that there is a significant difference between at least two of the groups being compared. This means that the null hypothesis, which states that all groups have the same mean, can be rejected at a significance level of 0.05 (assuming this was the chosen level of significance).\n",
    "\n",
    "#However, the ANOVA alone does not tell us which groups are significantly different from each other. Post-hoc tests such as Tukey's HSD or Bonferroni's correction can be performed to determine pairwise differences between groups.\n",
    "\n",
    "#We can conclude that there is evidence of significant differences between the groups being compared, but further analysis is needed to determine which specific groups differ significantly from each other."
   ]
  },
  {
   "cell_type": "code",
   "execution_count": 24,
   "id": "2adc66ad-402b-47ea-9f46-9dc2f1ed7a93",
   "metadata": {},
   "outputs": [],
   "source": [
    "#7. In a repeated measures ANOVA, how would you handle missing data, and what are the potential consequences of using different methods to handle missing data?\n",
    "\n",
    "#Ans\n",
    "\n",
    "#In a repeated measures ANOVA, missing data can occur when one or more measurements are not available for some subjects. Handling missing data is important as it can affect the validity and reliability of the analysis.\n",
    "\n",
    "#One common approach to handle missing data in repeated measures ANOVA is to use a technique called imputation. Imputation involves estimating the missing values based on the available data. There are several methods of imputation, including mean imputation, last observation carried forward (LOCF), and multiple imputation.\n",
    "\n",
    "#Mean imputation involves replacing missing values with the mean value of the available data. LOCF involves carrying forward the last observed value for each subject to fill in missing data points. Multiple imputation involves creating multiple plausible values for each missing data point and analyzing the data multiple times with different imputed values.\n",
    "\n",
    "#The potential consequences of using different methods to handle missing data can be substantial. Mean imputation may lead to biased estimates of treatment effects and can underestimate the standard errors of the estimates. LOCF may lead to biased estimates if the assumption that the missing data are missing completely at random (MCAR) is not met. Multiple imputation can be a more robust approach, but it can also be more computationally intensive and require more assumptions."
   ]
  },
  {
   "cell_type": "code",
   "execution_count": 25,
   "id": "a2e28cfd-acdb-47ab-a806-356e5bb735a1",
   "metadata": {},
   "outputs": [],
   "source": [
    "#8. What are some common post-hoc tests used after ANOVA, and when would you use each one? Provide an example of a situation where a post-hoc test might be necessary.\n",
    "\n",
    "#Ans\n",
    "\n",
    "#Post-hoc tests are used to determine which specific groups have significantly different means after an ANOVA test has shown that there is a significant difference between at least two groups. Here are some common post-hoc tests:\n",
    "\n",
    "#1 - Tukey's HSD (Honestly Significant Difference) test: This test compares all pairs of means and controls the family-wise error rate (FWER) at a specified level, typically 0.05. It is often used in situations where all pairwise comparisons are of interest.\n",
    "\n",
    "#2 - Bonferroni correction: This is a more conservative method than Tukey's HSD test and controls the FWER by dividing the desired significance level by the number of comparisons being made. For example, if there are four comparisons being made and a desired significance level of 0.05, then each individual comparison would be tested at a significance level of 0.0125 (0.05/4).\n",
    "\n",
    "#3 - Scheffe's test: This test is more conservative than Tukey's HSD test and is used when the number of comparisons is small. It controls the overall Type I error rate at a specified level, typically 0.05.\n",
    "\n",
    "#4 - Dunnett's test: This test is used to compare multiple treatments to a control group. It controls the overall Type I error rate at a specified level, typically 0.05.\n",
    "\n",
    "#Here is an example situation where a post-hoc test might be necessary:\n",
    "\n",
    "#Suppose a researcher is studying the effect of three different exercise programs (A, B, and C) on weight loss. After conducting an ANOVA, the researcher finds a significant difference between the groups (F = 4.52, p < 0.05). The researcher wants to know which specific exercise programs are significantly different from each other. In this case, the researcher would need to conduct a post-hoc test, such as Tukey's HSD, to determine the specific pairwise differences between the groups."
   ]
  },
  {
   "cell_type": "code",
   "execution_count": 2,
   "id": "7b348cd0-989a-49fb-808a-0ca2404e102d",
   "metadata": {},
   "outputs": [
    {
     "name": "stdout",
     "output_type": "stream",
     "text": [
      "F-statistic: 8.26\n",
      "p-value: 0.0004\n"
     ]
    }
   ],
   "source": [
    "#9. A researcher wants to compare the mean weight loss of three diets: A, B, and C. They collect data from 50 participants who were randomly assigned to one of the diets. Conduct a one-way ANOVA using Python to determine if there are any significant differences between the mean weight loss of the three diets. Report the F-statistic and p-value, and interpret the results.\n",
    "\n",
    "#Ans\n",
    "\n",
    "import numpy as np\n",
    "import scipy.stats as stats\n",
    "\n",
    "# Generate some sample data\n",
    "np.random.seed(123)\n",
    "weight_loss_a = np.random.normal(loc=5.0, scale=2.0, size=50)\n",
    "weight_loss_b = np.random.normal(loc=4.0, scale=1.5, size=50)\n",
    "weight_loss_c = np.random.normal(loc=3.5, scale=1.0, size=50)\n",
    "\n",
    "# Combine the data into a single array\n",
    "weight_loss = np.concatenate((weight_loss_a, weight_loss_b, weight_loss_c))\n",
    "\n",
    "# Create a grouping variable\n",
    "group = np.array(['A']*50 + ['B']*50 + ['C']*50)\n",
    "\n",
    "# Conduct one-way ANOVA\n",
    "f_stat, p_val = stats.f_oneway(\n",
    "    weight_loss[group == 'A'],\n",
    "    weight_loss[group == 'B'],\n",
    "    weight_loss[group == 'C']\n",
    ")\n",
    "\n",
    "# Print the F-statistic and p-value\n",
    "print(\"F-statistic: {:.2f}\".format(f_stat))\n",
    "print(\"p-value: {:.4f}\".format(p_val))\n",
    "\n",
    "\n",
    "#Interpret result\n",
    "\n",
    "#The results of the one-way ANOVA test indicate that there is a statistically significant difference between the mean weight loss of the three diets (A, B, and C). The F-statistic of 8.26 suggests that the variability between the group means is larger than the variability within each group, but not as large as in some other cases. The p-value of 0.0004 (which is smaller than the typical significance level of 0.05) indicates that the probability of observing such a large F-statistic by chance is very low. Therefore, we can reject the null hypothesis of no difference between the group means, and conclude that there is a significant difference in mean weight loss between the three diets.\n",
    "\n",
    "#It's important to note that while the ANOVA test tells us that there is a significant difference between the group means, it doesn't tell us which specific group means are different from each other. To determine which groups are significantly different from each other, post-hoc tests such as Tukey's HSD (honest significant difference) test or pairwise t-tests can be performed."
   ]
  },
  {
   "cell_type": "code",
   "execution_count": 2,
   "id": "60ad7fe3-a2e7-458b-9728-6df8940c420c",
   "metadata": {},
   "outputs": [
    {
     "name": "stdout",
     "output_type": "stream",
     "text": [
      "                          sum_sq    df         F    PR(>F)\n",
      "C(program)                 2.616   2.0  1.093798  0.351065\n",
      "C(experience)              0.108   1.0  0.090314  0.766367\n",
      "C(program):C(experience)   0.608   2.0  0.254216  0.777586\n",
      "Residual                  28.700  24.0       NaN       NaN\n"
     ]
    }
   ],
   "source": [
    "#10. A company wants to know if there are any significant differences in the average time it takes to complete a task using three different software programs: Program A, Program B, and Program C. They randomly assign 30 employees to one of the programs and record the time it takes each employee to complete the task. Conduct a two-way ANOVA using Python to determine if there are any main effects or interaction effects between the software programs and employee experience level (novice vs. experienced). Report the F-statistics and p-values, and interpret the results.\n",
    "\n",
    "#Ans\n",
    "\n",
    "import pandas as pd\n",
    "import statsmodels.api as sm\n",
    "from statsmodels.formula.api import ols\n",
    "\n",
    "# Create a sample dataset with 30 employees randomly assigned to one of the three software programs\n",
    "data = pd.DataFrame({'program': ['A', 'B', 'C'] * 10,\n",
    "                     'experience': ['novice'] * 15 + ['experienced'] * 15,\n",
    "                     'time': [10.2, 11.5, 9.8, 11.1, 10.4, 9.9, 9.6, 10.3, 11.2, 10.5,\n",
    "                              11.4, 12.1, 10.6, 11.3, 12.4, 8.9, 9.1, 9.5, 8.8, 9.2,\n",
    "                              11.5, 10.8, 11.2, 10.6, 11.9, 11.3, 12.1, 11.8, 11.5, 12.3]})\n",
    "\n",
    "# Fit the two-way ANOVA model\n",
    "model = ols('time ~ C(program) + C(experience) + C(program):C(experience)', data=data).fit()\n",
    "\n",
    "# Print the ANOVA table\n",
    "table = sm.stats.anova_lm(model, typ=2)\n",
    "print(table)"
   ]
  },
  {
   "cell_type": "code",
   "execution_count": 4,
   "id": "e81b1355-57a5-4423-b5f2-dce395433a63",
   "metadata": {},
   "outputs": [
    {
     "name": "stdout",
     "output_type": "stream",
     "text": [
      "Two-sample t-test results:\n",
      "t-statistic: -2.32\n",
      "p-value: 0.0227\n",
      "The results are significant at the 0.05 level.\n",
      "\n",
      "Post-hoc Tukey's HSD test results:\n",
      "   Multiple Comparison of Means - Tukey HSD, FWER=0.05   \n",
      "=========================================================\n",
      " group1    group2    meandiff p-adj  lower  upper  reject\n",
      "---------------------------------------------------------\n",
      "control experimental   5.2768 0.0227 0.7537 9.7998   True\n",
      "---------------------------------------------------------\n"
     ]
    }
   ],
   "source": [
    "#11. An educational researcher is interested in whether a new teaching method improves student test scores. They randomly assign 100 students to either the control group (traditional teaching method) or the experimental group (new teaching method) and administer a test at the end of the semester. Conduct a two-sample t-test using Python to determine if there are any significant differences in test scores between the two groups. If the results are significant, follow up with a post-hoc test to determine which group(s) differ significantly from each other.\n",
    "\n",
    "#Ans\n",
    "\n",
    "import numpy as np\n",
    "from scipy.stats import ttest_ind\n",
    "from statsmodels.stats.multicomp import pairwise_tukeyhsd\n",
    "\n",
    "# Set the random seed for reproducibility\n",
    "np.random.seed(123)\n",
    "\n",
    "# Simulate test scores for the control group (n=50, mean=70, std=10)\n",
    "control_scores = np.random.normal(loc=70, scale=10, size=50)\n",
    "\n",
    "# Simulate test scores for the experimental group (n=50, mean=75, std=10)\n",
    "experimental_scores = np.random.normal(loc=75, scale=10, size=50)\n",
    "\n",
    "# Conduct the two-sample t-test\n",
    "t_stat, p_value = ttest_ind(control_scores, experimental_scores)\n",
    "\n",
    "# Print the results of the t-test\n",
    "print(f\"Two-sample t-test results:\")\n",
    "print(f\"t-statistic: {t_stat:.2f}\")\n",
    "print(f\"p-value: {p_value:.4f}\")\n",
    "if p_value < 0.05:\n",
    "    print(\"The results are significant at the 0.05 level.\")\n",
    "else:\n",
    "    print(\"The results are not significant at the 0.05 level.\")\n",
    "\n",
    "# Conduct the post-hoc Tukey's HSD test\n",
    "all_scores = np.concatenate([control_scores, experimental_scores])\n",
    "group_labels = np.array([\"control\"] * len(control_scores) + [\"experimental\"] * len(experimental_scores))\n",
    "tukey_results = pairwise_tukeyhsd(all_scores, group_labels)\n",
    "\n",
    "# Print the results of the Tukey's HSD test\n",
    "print(\"\\nPost-hoc Tukey's HSD test results:\")\n",
    "print(tukey_results)"
   ]
  },
  {
   "cell_type": "code",
   "execution_count": 5,
   "id": "14e85f90-0d09-4adc-9295-4d5927e7f283",
   "metadata": {},
   "outputs": [
    {
     "name": "stdout",
     "output_type": "stream",
     "text": [
      "Repeated measures ANOVA results:\n",
      "                sum_sq    df          F        PR(>F)\n",
      "store      5593.670409   2.0  16.418632  8.919498e-07\n",
      "Residual  14820.032400  87.0        NaN           NaN\n",
      "\n",
      "Post-hoc Tukey's HSD test results:\n",
      "Multiple Comparison of Means - Tukey HSD, FWER=0.05 \n",
      "====================================================\n",
      "group1 group2 meandiff p-adj   lower   upper  reject\n",
      "----------------------------------------------------\n",
      "     A      B  11.6751 0.0024  3.6396 19.7106   True\n",
      "     A      C  19.1587    0.0 11.1232 27.1942   True\n",
      "     B      C   7.4835 0.0733  -0.552  15.519  False\n",
      "----------------------------------------------------\n"
     ]
    }
   ],
   "source": [
    "#12. A researcher wants to know if there are any significant differences in the average daily sales of three retail stores: Store A, Store B, and Store C. They randomly select 30 days and record the sales for each store on those days. Conduct a repeated measures ANOVA using Python to determine if there are any significant differences in sales between the three stores. If the results are significant, follow up with a posthoc test to determine which store(s) differ significantly from each other.\n",
    "\n",
    "#Ans\n",
    "\n",
    "import pandas as pd\n",
    "import numpy as np\n",
    "import statsmodels.api as sm\n",
    "from statsmodels.formula.api import ols\n",
    "from statsmodels.stats.anova import anova_lm\n",
    "from statsmodels.stats.multicomp import pairwise_tukeyhsd\n",
    "\n",
    "# Set the random seed for reproducibility\n",
    "np.random.seed(123)\n",
    "\n",
    "# Create a DataFrame with simulated sales data for each store\n",
    "store_a_sales = np.random.normal(loc=50, scale=10, size=30)\n",
    "store_b_sales = np.random.normal(loc=60, scale=15, size=30)\n",
    "store_c_sales = np.random.normal(loc=70, scale=5, size=30)\n",
    "\n",
    "sales_data = pd.DataFrame({\n",
    "    'store': np.repeat(['A', 'B', 'C'], 30),\n",
    "    'sales': np.concatenate([store_a_sales, store_b_sales, store_c_sales])\n",
    "})\n",
    "\n",
    "# Conduct the repeated measures ANOVA\n",
    "model = ols('sales ~ store', data=sales_data).fit()\n",
    "anova_results = anova_lm(model, typ=2)\n",
    "\n",
    "# Print the ANOVA results\n",
    "print(\"Repeated measures ANOVA results:\")\n",
    "print(anova_results)\n",
    "\n",
    "# Conduct the post-hoc Tukey's HSD test\n",
    "posthoc = pairwise_tukeyhsd(sales_data['sales'], sales_data['store'])\n",
    "\n",
    "# Print the Tukey's HSD results\n",
    "print(\"\\nPost-hoc Tukey's HSD test results:\")\n",
    "print(posthoc)"
   ]
  },
  {
   "cell_type": "code",
   "execution_count": null,
   "id": "25b931b7-ed79-40ba-b52d-98169e3e2740",
   "metadata": {},
   "outputs": [],
   "source": []
  }
 ],
 "metadata": {
  "kernelspec": {
   "display_name": "Python 3 (ipykernel)",
   "language": "python",
   "name": "python3"
  },
  "language_info": {
   "codemirror_mode": {
    "name": "ipython",
    "version": 3
   },
   "file_extension": ".py",
   "mimetype": "text/x-python",
   "name": "python",
   "nbconvert_exporter": "python",
   "pygments_lexer": "ipython3",
   "version": "3.10.8"
  }
 },
 "nbformat": 4,
 "nbformat_minor": 5
}
